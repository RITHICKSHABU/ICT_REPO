{
 "cells": [
  {
   "cell_type": "code",
   "execution_count": 1,
   "id": "71451403-f918-4b3b-8136-39146189074c",
   "metadata": {},
   "outputs": [
    {
     "name": "stdout",
     "output_type": "stream",
     "text": [
      "10\n"
     ]
    }
   ],
   "source": [
    "A=int(\"10\")\n",
    "print(A)"
   ]
  },
  {
   "cell_type": "code",
   "execution_count": 2,
   "id": "cac6f7f5-2ad5-4b69-a93b-13559c78b57e",
   "metadata": {},
   "outputs": [
    {
     "data": {
      "text/plain": [
       "int"
      ]
     },
     "execution_count": 2,
     "metadata": {},
     "output_type": "execute_result"
    }
   ],
   "source": [
    "type(A)"
   ]
  },
  {
   "cell_type": "code",
   "execution_count": 3,
   "id": "05a031de-056e-45d9-a76c-e5561ce172aa",
   "metadata": {},
   "outputs": [
    {
     "name": "stdout",
     "output_type": "stream",
     "text": [
      "3.14\n"
     ]
    }
   ],
   "source": [
    "A=float(\"3.14\")\n",
    "print(A)"
   ]
  },
  {
   "cell_type": "code",
   "execution_count": 4,
   "id": "ec4754f3-0ee4-4b18-8017-62aceae597bb",
   "metadata": {},
   "outputs": [
    {
     "data": {
      "text/plain": [
       "float"
      ]
     },
     "execution_count": 4,
     "metadata": {},
     "output_type": "execute_result"
    }
   ],
   "source": [
    "type(A)"
   ]
  },
  {
   "cell_type": "code",
   "execution_count": 5,
   "id": "923650e9-81ae-4942-b4e3-a5b3e1322762",
   "metadata": {},
   "outputs": [
    {
     "name": "stdout",
     "output_type": "stream",
     "text": [
      "100\n"
     ]
    }
   ],
   "source": [
    "A=str(100)\n",
    "print(A)"
   ]
  },
  {
   "cell_type": "code",
   "execution_count": 6,
   "id": "502646ab-810e-47b2-b984-92f1dce3fff7",
   "metadata": {},
   "outputs": [
    {
     "data": {
      "text/plain": [
       "str"
      ]
     },
     "execution_count": 6,
     "metadata": {},
     "output_type": "execute_result"
    }
   ],
   "source": [
    "type(A)"
   ]
  },
  {
   "cell_type": "code",
   "execution_count": 7,
   "id": "f7dd136f-d20f-4bc4-90c2-a9a1792d9c42",
   "metadata": {},
   "outputs": [
    {
     "name": "stdout",
     "output_type": "stream",
     "text": [
      "False\n"
     ]
    }
   ],
   "source": [
    "A=bool(0)\n",
    "print(A)"
   ]
  },
  {
   "cell_type": "code",
   "execution_count": 8,
   "id": "0c363259-f6da-4cc8-8049-3dcd3f22342a",
   "metadata": {},
   "outputs": [
    {
     "data": {
      "text/plain": [
       "bool"
      ]
     },
     "execution_count": 8,
     "metadata": {},
     "output_type": "execute_result"
    }
   ],
   "source": [
    "type(A)"
   ]
  },
  {
   "cell_type": "code",
   "execution_count": 9,
   "id": "fa0bb801-17d3-4efa-b360-6d44a79ea879",
   "metadata": {},
   "outputs": [
    {
     "name": "stdout",
     "output_type": "stream",
     "text": [
      "['a', 'b', 'c']\n"
     ]
    }
   ],
   "source": [
    "A=list(\"abc\")\n",
    "print(A)"
   ]
  },
  {
   "cell_type": "code",
   "execution_count": 10,
   "id": "03a7fa15-1264-4f9b-bbc4-00e4fef690ce",
   "metadata": {},
   "outputs": [
    {
     "data": {
      "text/plain": [
       "list"
      ]
     },
     "execution_count": 10,
     "metadata": {},
     "output_type": "execute_result"
    }
   ],
   "source": [
    "type(A)"
   ]
  },
  {
   "cell_type": "code",
   "execution_count": 11,
   "id": "138a92f6-ab2d-4182-ac8f-23841e8a4fcb",
   "metadata": {},
   "outputs": [
    {
     "name": "stdout",
     "output_type": "stream",
     "text": [
      "(1, 2, 3)\n"
     ]
    }
   ],
   "source": [
    "A=tuple([1,2,3])\n",
    "print(A)"
   ]
  },
  {
   "cell_type": "code",
   "execution_count": 12,
   "id": "8e070ca4-81b8-4c0c-8578-adf4f192c7f9",
   "metadata": {},
   "outputs": [
    {
     "data": {
      "text/plain": [
       "tuple"
      ]
     },
     "execution_count": 12,
     "metadata": {},
     "output_type": "execute_result"
    }
   ],
   "source": [
    "type(A)"
   ]
  },
  {
   "cell_type": "code",
   "execution_count": 13,
   "id": "830397c9-07ff-4923-b1e1-ecbd0e8e8172",
   "metadata": {},
   "outputs": [
    {
     "name": "stdout",
     "output_type": "stream",
     "text": [
      "{1, 2}\n"
     ]
    }
   ],
   "source": [
    "A=set([1,1,2])\n",
    "print(A)"
   ]
  },
  {
   "cell_type": "code",
   "execution_count": 14,
   "id": "11ab16f4-e5d3-4a8d-9c00-6ae3fd1c4511",
   "metadata": {},
   "outputs": [
    {
     "data": {
      "text/plain": [
       "set"
      ]
     },
     "execution_count": 14,
     "metadata": {},
     "output_type": "execute_result"
    }
   ],
   "source": [
    "type(A)"
   ]
  },
  {
   "cell_type": "code",
   "execution_count": 15,
   "id": "2825975e-3d05-4a55-95cf-61e690997be6",
   "metadata": {},
   "outputs": [
    {
     "name": "stdout",
     "output_type": "stream",
     "text": [
      "{1: 'one', 2: 'two'}\n"
     ]
    }
   ],
   "source": [
    "A=dict([(1,\"one\"),(2,\"two\")])\n",
    "print(A)"
   ]
  },
  {
   "cell_type": "code",
   "execution_count": 16,
   "id": "cc9de927-72bf-4b0f-bbaa-12736f547388",
   "metadata": {},
   "outputs": [
    {
     "data": {
      "text/plain": [
       "dict"
      ]
     },
     "execution_count": 16,
     "metadata": {},
     "output_type": "execute_result"
    }
   ],
   "source": [
    "type(A)"
   ]
  },
  {
   "cell_type": "code",
   "execution_count": 17,
   "id": "db01638c-3df3-4892-bac1-3fa20f8283ee",
   "metadata": {},
   "outputs": [],
   "source": [
    "#practice"
   ]
  },
  {
   "cell_type": "code",
   "execution_count": 18,
   "id": "d6e2469c-97e3-4a2a-9522-4cf84b20242e",
   "metadata": {},
   "outputs": [
    {
     "name": "stdout",
     "output_type": "stream",
     "text": [
      "100\n"
     ]
    },
    {
     "data": {
      "text/plain": [
       "int"
      ]
     },
     "execution_count": 18,
     "metadata": {},
     "output_type": "execute_result"
    }
   ],
   "source": [
    "#string to integer\n",
    "A=int(\"100\")\n",
    "print(A)\n",
    "type(A)"
   ]
  },
  {
   "cell_type": "code",
   "execution_count": 19,
   "id": "e80950f0-6999-454b-9752-164f893dd74f",
   "metadata": {},
   "outputs": [
    {
     "name": "stdout",
     "output_type": "stream",
     "text": [
      "3\n"
     ]
    },
    {
     "data": {
      "text/plain": [
       "int"
      ]
     },
     "execution_count": 19,
     "metadata": {},
     "output_type": "execute_result"
    }
   ],
   "source": [
    "#float to int\n",
    "A=int(3.14)\n",
    "print(A)\n",
    "type(A)"
   ]
  },
  {
   "cell_type": "code",
   "execution_count": 20,
   "id": "557d5d53-145d-4183-9bfa-81393630b511",
   "metadata": {},
   "outputs": [
    {
     "name": "stdout",
     "output_type": "stream",
     "text": [
      "25\n"
     ]
    },
    {
     "data": {
      "text/plain": [
       "str"
      ]
     },
     "execution_count": 20,
     "metadata": {},
     "output_type": "execute_result"
    }
   ],
   "source": [
    "#int to string\n",
    "A=str(25)\n",
    "print(A)\n",
    "type(A)"
   ]
  },
  {
   "cell_type": "code",
   "execution_count": 21,
   "id": "3821dd73-ff84-4679-a8e4-d0a25c2419e3",
   "metadata": {},
   "outputs": [
    {
     "name": "stdout",
     "output_type": "stream",
     "text": [
      "(1, 2, 3)\n"
     ]
    },
    {
     "data": {
      "text/plain": [
       "tuple"
      ]
     },
     "execution_count": 21,
     "metadata": {},
     "output_type": "execute_result"
    }
   ],
   "source": [
    "#list into tuple\n",
    "A=tuple([1,2,3])\n",
    "print(A)\n",
    "type(A)"
   ]
  },
  {
   "cell_type": "code",
   "execution_count": 22,
   "id": "bf01c2f2-c103-4ec4-b8a6-45b68ea7492f",
   "metadata": {},
   "outputs": [
    {
     "name": "stdout",
     "output_type": "stream",
     "text": [
      "[4, 5, 6]\n"
     ]
    },
    {
     "data": {
      "text/plain": [
       "list"
      ]
     },
     "execution_count": 22,
     "metadata": {},
     "output_type": "execute_result"
    }
   ],
   "source": [
    "#tuple into list\n",
    "A=list((4,5,6))\n",
    "print(A)\n",
    "type(A)"
   ]
  },
  {
   "cell_type": "code",
   "execution_count": 23,
   "id": "524e9c93-6a73-4614-b94a-5404c0846fc4",
   "metadata": {},
   "outputs": [
    {
     "name": "stdin",
     "output_type": "stream",
     "text": [
      "ENTER YOUR USERNAME : jhj\n"
     ]
    },
    {
     "name": "stdout",
     "output_type": "stream",
     "text": [
      "ENTER VALID USERNAME!\n"
     ]
    }
   ],
   "source": [
    "#practice Q!\n",
    "username=\"RITHI\"\n",
    "username=input(\"ENTER YOUR USERNAME :\")\n",
    "if(username==\"RITHI\"):\n",
    " print(\"HELLO\",username,\"!\")\n",
    "else:\n",
    " print(\"ENTER VALID USERNAME!\")\n",
    "\n"
   ]
  },
  {
   "cell_type": "code",
   "execution_count": 24,
   "id": "e6c82188-c182-4046-bb1d-ab677b274e25",
   "metadata": {},
   "outputs": [
    {
     "name": "stdout",
     "output_type": "stream",
     "text": [
      "PYHTON IS FUN!\n"
     ]
    }
   ],
   "source": [
    "print(\"PYHTON IS FUN!\")"
   ]
  },
  {
   "cell_type": "code",
   "execution_count": 25,
   "id": "53bb159a-8b95-491b-a46a-9a92ad17501d",
   "metadata": {},
   "outputs": [
    {
     "name": "stdin",
     "output_type": "stream",
     "text": [
      "ENTER FIRST NUMBER: 1\n",
      "ENTER SECOND NUMBER: 5\n"
     ]
    },
    {
     "name": "stdout",
     "output_type": "stream",
     "text": [
      "6\n"
     ]
    }
   ],
   "source": [
    "NUM_1=int(input('ENTER FIRST NUMBER:'))\n",
    "NUM_2=int(input('ENTER SECOND NUMBER:'))\n",
    "SUM=NUM_1 + NUM_2\n",
    "print(SUM)\n",
    "                "
   ]
  },
  {
   "cell_type": "code",
   "execution_count": 26,
   "id": "fe3a9c19-8a00-43c2-b210-c4c7c164bf41",
   "metadata": {},
   "outputs": [
    {
     "name": "stdin",
     "output_type": "stream",
     "text": [
      "ENTER A SENTENCE: hi my name is rithi\n"
     ]
    },
    {
     "data": {
      "text/plain": [
       "19"
      ]
     },
     "execution_count": 26,
     "metadata": {},
     "output_type": "execute_result"
    }
   ],
   "source": [
    "A=input(\"ENTER A SENTENCE:\")\n",
    "len(A)"
   ]
  },
  {
   "cell_type": "code",
   "execution_count": 30,
   "id": "292e3b0d-a9bf-427f-b6da-ff9e416bb27c",
   "metadata": {},
   "outputs": [
    {
     "name": "stdin",
     "output_type": "stream",
     "text": [
      "ENTER YOUR YEAR Of BIRTH : 2025\n"
     ]
    },
    {
     "name": "stdout",
     "output_type": "stream",
     "text": [
      "YOUR AGE IS 0 !\n"
     ]
    }
   ],
   "source": [
    "AGE = int(input(\"ENTER YOUR YEAR Of BIRTH :\"))\n",
    "A=int(2025)\n",
    "if(AGE<=2025):\n",
    " B=(A-AGE)\n",
    " print(\"YOUR AGE IS\",B,\"!\")\n",
    "else:\n",
    "    print(\"ENTER VALID DOB\")\n"
   ]
  },
  {
   "cell_type": "code",
   "execution_count": 35,
   "id": "161bc317-4fe8-42c3-baa3-875a59bfed05",
   "metadata": {},
   "outputs": [
    {
     "name": "stdin",
     "output_type": "stream",
     "text": [
      "ENTER A NUMBER : -15\n"
     ]
    },
    {
     "name": "stdout",
     "output_type": "stream",
     "text": [
      "15\n"
     ]
    }
   ],
   "source": [
    "#math fun\n",
    "NUM=int(input(\"ENTER A NUMBER :\"))\n",
    "print(abs(NUM))"
   ]
  },
  {
   "cell_type": "code",
   "execution_count": 36,
   "id": "7b73664a-4388-4b8d-b2dd-0ff73c0eae95",
   "metadata": {},
   "outputs": [
    {
     "name": "stdin",
     "output_type": "stream",
     "text": [
      "ENTER FIRST NUMBER: 2\n",
      "ENTER SECOND NUMBER: 5\n"
     ]
    },
    {
     "name": "stdout",
     "output_type": "stream",
     "text": [
      "32\n"
     ]
    }
   ],
   "source": [
    "NUM_1=int(input('ENTER FIRST NUMBER:'))\n",
    "NUM_2=int(input('ENTER SECOND NUMBER:'))\n",
    "print(pow(NUM_1, NUM_2))"
   ]
  },
  {
   "cell_type": "code",
   "execution_count": 37,
   "id": "d2112923-5d73-478d-835f-94c3c5b54378",
   "metadata": {},
   "outputs": [
    {
     "name": "stdin",
     "output_type": "stream",
     "text": [
      "ENTER A NUMBER : 4.6\n"
     ]
    },
    {
     "name": "stdout",
     "output_type": "stream",
     "text": [
      "5\n"
     ]
    }
   ],
   "source": [
    "A=float(input(\"ENTER A NUMBER :\"))\n",
    "print(round(A))"
   ]
  },
  {
   "cell_type": "code",
   "execution_count": 45,
   "id": "5ad42585-6dba-4284-bde5-07b06ef85fe1",
   "metadata": {},
   "outputs": [
    {
     "name": "stdin",
     "output_type": "stream",
     "text": [
      "ENTER FIRST NUMBER: 5\n",
      "ENTER SECOND NUMBER: 6\n"
     ]
    },
    {
     "name": "stdout",
     "output_type": "stream",
     "text": [
      "(0, 5)\n"
     ]
    }
   ],
   "source": [
    "NUM_1=int(input('ENTER FIRST NUMBER:'))\n",
    "NUM_2=int(input('ENTER SECOND NUMBER:'))\n",
    "print(divmod(NUM_1,NUM_2))"
   ]
  },
  {
   "cell_type": "code",
   "execution_count": 43,
   "id": "5b297cc8-8c0a-43a1-8c94-5c9699512918",
   "metadata": {
    "scrolled": true
   },
   "outputs": [
    {
     "name": "stdin",
     "output_type": "stream",
     "text": [
      "ENTER A NUMBER : 5\n",
      "ENTER A NUMBER : 6\n",
      "ENTER A NUMBER : 7\n"
     ]
    },
    {
     "name": "stdout",
     "output_type": "stream",
     "text": [
      "18\n"
     ]
    }
   ],
   "source": [
    "#iterables & sequences\n",
    "num=int(input(\"ENTER A NUMBER :\"))\n",
    "num2=int(input(\"ENTER A NUMBER :\"))\n",
    "num3=int(input(\"ENTER A NUMBER :\"))\n",
    "print(sum([num,num2,num3]))"
   ]
  },
  {
   "cell_type": "code",
   "execution_count": 54,
   "id": "6171778d-e424-40ca-b791-02a9ee6d12b0",
   "metadata": {},
   "outputs": [
    {
     "name": "stdin",
     "output_type": "stream",
     "text": [
      "ENTER THE INPUT : 2\n",
      "ENTER THE INPUT : 3\n",
      "ENTER THE INPUT : 2\n"
     ]
    },
    {
     "data": {
      "text/plain": [
       "3"
      ]
     },
     "execution_count": 54,
     "metadata": {},
     "output_type": "execute_result"
    }
   ],
   "source": [
    "A=input(\"ENTER THE INPUT :\")\n",
    "B=input(\"ENTER THE INPUT :\")\n",
    "C=input(\"ENTER THE INPUT :\")\n",
    "len([A,B,C])"
   ]
  },
  {
   "cell_type": "code",
   "execution_count": 48,
   "id": "00a7cdb0-14e3-47c3-a710-f13d9bbbc064",
   "metadata": {},
   "outputs": [
    {
     "name": "stdin",
     "output_type": "stream",
     "text": [
      "ENTER A NUMBER : 5\n",
      "ENTER A NUMBER : 6\n",
      "ENTER A NUMBER : 7\n"
     ]
    },
    {
     "name": "stdout",
     "output_type": "stream",
     "text": [
      "7\n"
     ]
    }
   ],
   "source": [
    "num=int(input(\"ENTER A NUMBER :\"))\n",
    "num2=int(input(\"ENTER A NUMBER :\"))\n",
    "num3=int(input(\"ENTER A NUMBER :\"))\n",
    "print(max(num,num2,num3))"
   ]
  },
  {
   "cell_type": "code",
   "execution_count": 49,
   "id": "e55a0ac5-1fd9-40d6-840d-8f56de05f91e",
   "metadata": {},
   "outputs": [
    {
     "name": "stdin",
     "output_type": "stream",
     "text": [
      "ENTER A NUMBER : 5\n",
      "ENTER A NUMBER : 6\n",
      "ENTER A NUMBER : 3\n"
     ]
    },
    {
     "name": "stdout",
     "output_type": "stream",
     "text": [
      "3\n"
     ]
    }
   ],
   "source": [
    "num=int(input(\"ENTER A NUMBER :\"))\n",
    "num2=int(input(\"ENTER A NUMBER :\"))\n",
    "num3=int(input(\"ENTER A NUMBER :\"))\n",
    "print(min(num,num2,num3))"
   ]
  },
  {
   "cell_type": "code",
   "execution_count": 50,
   "id": "14e39753-905f-4702-a709-698c46b04dd5",
   "metadata": {},
   "outputs": [
    {
     "name": "stdin",
     "output_type": "stream",
     "text": [
      "ENTER A NUMBER : 5\n",
      "ENTER A NUMBER : 6\n",
      "ENTER A NUMBER : 0\n"
     ]
    },
    {
     "name": "stdout",
     "output_type": "stream",
     "text": [
      "[0, 5, 6]\n"
     ]
    }
   ],
   "source": [
    "num=int(input(\"ENTER A NUMBER :\"))\n",
    "num2=int(input(\"ENTER A NUMBER :\"))\n",
    "num3=int(input(\"ENTER A NUMBER :\"))\n",
    "print(sorted([num,num2,num3]))"
   ]
  },
  {
   "cell_type": "code",
   "execution_count": 58,
   "id": "9230bef6-a137-4b54-864b-3ce353a40a6a",
   "metadata": {},
   "outputs": [
    {
     "name": "stdin",
     "output_type": "stream",
     "text": [
      "ENTER A NUMBER : 5\n"
     ]
    },
    {
     "name": "stdout",
     "output_type": "stream",
     "text": [
      "list[range(0, 5)]\n"
     ]
    }
   ],
   "source": [
    "A=int(input(\"ENTER A NUMBER :\"))\n",
    "print(list[range(A)])"
   ]
  },
  {
   "cell_type": "code",
   "execution_count": 60,
   "id": "dc364396-3432-453e-a2c4-9ceff371b80b",
   "metadata": {},
   "outputs": [
    {
     "name": "stdin",
     "output_type": "stream",
     "text": [
      "ENTER THE INPUT : hello\n"
     ]
    },
    {
     "name": "stdout",
     "output_type": "stream",
     "text": [
      "<class 'str'>\n"
     ]
    }
   ],
   "source": [
    "#type\n",
    "A=input(\"ENTER THE INPUT :\")\n",
    "print(type(A))"
   ]
  },
  {
   "cell_type": "code",
   "execution_count": 61,
   "id": "8fb15ea1-ccf0-4f77-b60f-bbf239a3421d",
   "metadata": {},
   "outputs": [
    {
     "name": "stdout",
     "output_type": "stream",
     "text": [
      "140708475522776\n"
     ]
    }
   ],
   "source": [
    "#address memory\n",
    "x=42\n",
    "print(id(x))"
   ]
  },
  {
   "cell_type": "code",
   "execution_count": 62,
   "id": "76db4696-916e-4ae6-872f-081f07e2a34a",
   "metadata": {},
   "outputs": [
    {
     "name": "stdin",
     "output_type": "stream",
     "text": [
      "ENTER A INPUT : 7\n"
     ]
    },
    {
     "name": "stdout",
     "output_type": "stream",
     "text": [
      "True\n"
     ]
    }
   ],
   "source": [
    "A=int(input(\"ENTER A INPUT :\"))\n",
    "print(isinstance(A,int))"
   ]
  },
  {
   "cell_type": "code",
   "execution_count": 65,
   "id": "856bae2b-367e-4fd4-95b8-7c28eae99f8b",
   "metadata": {},
   "outputs": [
    {
     "name": "stdin",
     "output_type": "stream",
     "text": [
      "ENTER A INPUT : 2.14\n"
     ]
    },
    {
     "name": "stdout",
     "output_type": "stream",
     "text": [
      "True\n"
     ]
    }
   ],
   "source": [
    "A=float(input(\"ENTER A INPUT :\"))\n",
    "print(isinstance(A,float))"
   ]
  },
  {
   "cell_type": "code",
   "execution_count": 66,
   "id": "cb4cc48f-5ce4-4914-9e60-d5c54469a237",
   "metadata": {},
   "outputs": [
    {
     "data": {
      "text/plain": [
       "['__add__',\n",
       " '__class__',\n",
       " '__class_getitem__',\n",
       " '__contains__',\n",
       " '__delattr__',\n",
       " '__delitem__',\n",
       " '__dir__',\n",
       " '__doc__',\n",
       " '__eq__',\n",
       " '__format__',\n",
       " '__ge__',\n",
       " '__getattribute__',\n",
       " '__getitem__',\n",
       " '__getstate__',\n",
       " '__gt__',\n",
       " '__hash__',\n",
       " '__iadd__',\n",
       " '__imul__',\n",
       " '__init__',\n",
       " '__init_subclass__',\n",
       " '__iter__',\n",
       " '__le__',\n",
       " '__len__',\n",
       " '__lt__',\n",
       " '__mul__',\n",
       " '__ne__',\n",
       " '__new__',\n",
       " '__reduce__',\n",
       " '__reduce_ex__',\n",
       " '__repr__',\n",
       " '__reversed__',\n",
       " '__rmul__',\n",
       " '__setattr__',\n",
       " '__setitem__',\n",
       " '__sizeof__',\n",
       " '__str__',\n",
       " '__subclasshook__',\n",
       " 'append',\n",
       " 'clear',\n",
       " 'copy',\n",
       " 'count',\n",
       " 'extend',\n",
       " 'index',\n",
       " 'insert',\n",
       " 'pop',\n",
       " 'remove',\n",
       " 'reverse',\n",
       " 'sort']"
      ]
     },
     "execution_count": 66,
     "metadata": {},
     "output_type": "execute_result"
    }
   ],
   "source": [
    "A=[]\n",
    "dir(A)"
   ]
  },
  {
   "cell_type": "code",
   "execution_count": 75,
   "id": "8e018037-4085-48f8-a4a3-e6e8aa1249a6",
   "metadata": {},
   "outputs": [],
   "source": [
    "#file handling\n",
    "#\"DAY_(LIBRARY_MANAGEMENT).txt\"\n",
    "with open(\"sample.txt\",\"w\")as f:\n",
    "    f.write(\"HELLO WORLD !\")"
   ]
  },
  {
   "cell_type": "code",
   "execution_count": 79,
   "id": "e993be7a-e905-41e5-82c2-618ba8328b59",
   "metadata": {},
   "outputs": [
    {
     "data": {
      "text/plain": [
       "<_io.TextIOWrapper name='sample.txt' mode='r' encoding='cp1252'>"
      ]
     },
     "execution_count": 79,
     "metadata": {},
     "output_type": "execute_result"
    }
   ],
   "source": [
    "open(\"sample.txt\",\"r\")"
   ]
  },
  {
   "cell_type": "code",
   "execution_count": 81,
   "id": "818e1b70-4713-4898-ad97-13b9123ceee8",
   "metadata": {},
   "outputs": [
    {
     "name": "stdout",
     "output_type": "stream",
     "text": [
      "WELCOME\n"
     ]
    }
   ],
   "source": [
    "def greet():\n",
    "  print(\"WELCOME\")\n",
    "greet()"
   ]
  },
  {
   "cell_type": "code",
   "execution_count": 86,
   "id": "e0828e6f-7de8-47b5-88f5-3ea6f898f177",
   "metadata": {},
   "outputs": [
    {
     "name": "stdin",
     "output_type": "stream",
     "text": [
      "ENTER A NUMBER : 2020.33\n",
      "ENTER A NUMBER : 14522.32\n"
     ]
    },
    {
     "name": "stdout",
     "output_type": "stream",
     "text": [
      "THE SUM OF TWO NUM = 16542.65\n"
     ]
    }
   ],
   "source": [
    "def add():\n",
    "   a=float(input(\"ENTER A NUMBER :\"))\n",
    "   b=float(input(\"ENTER A NUMBER :\"))\n",
    "   print(\"THE SUM OF TWO NUM =\",a+b)\n",
    "add()"
   ]
  },
  {
   "cell_type": "markdown",
   "id": "0a965408-2e7a-4062-af0a-79f4866da4ee",
   "metadata": {},
   "source": [
    "(def add(a, b):\n",
    "  print(a+b)\n",
    "add(5, 3)"
   ]
  },
  {
   "cell_type": "code",
   "execution_count": 90,
   "id": "f3a6db7f-1d9b-4f20-83f0-63f12e27b4e9",
   "metadata": {},
   "outputs": [
    {
     "name": "stdin",
     "output_type": "stream",
     "text": [
      "ENTER YOUR NAME: RITHI\n"
     ]
    },
    {
     "name": "stdout",
     "output_type": "stream",
     "text": [
      "HELLO RITHI !\n",
      "HELLO SHABZZ !\n"
     ]
    }
   ],
   "source": [
    "def greet(name=input(\"ENTER YOUR NAME:\")):\n",
    " print(\"HELLO\",name,\"!\")\n",
    "greet()\n",
    "greet(\"SHABZZ\")"
   ]
  },
  {
   "cell_type": "code",
   "execution_count": 103,
   "id": "1b9f3124-856f-4c62-b515-356d67b82604",
   "metadata": {},
   "outputs": [
    {
     "name": "stdin",
     "output_type": "stream",
     "text": [
      "ENTER A NUMBER : 7\n",
      "ENTER A NUMBER : 8\n"
     ]
    },
    {
     "name": "stdout",
     "output_type": "stream",
     "text": [
      "THE PRODUCT OF THE VALUES ARE 56\n"
     ]
    }
   ],
   "source": [
    "def mul(a,b):\n",
    " a=int(input(\"ENTER A NUMBER :\"))\n",
    " b=int(input(\"ENTER A NUMBER :\"))\n",
    " print(\"THE PRODUCT OF THE VALUES ARE\",a*b)\n",
    "mul(1,1)"
   ]
  },
  {
   "cell_type": "code",
   "execution_count": 100,
   "id": "eb34bfc5-aa7d-4696-90b0-dedd638c2165",
   "metadata": {},
   "outputs": [
    {
     "name": "stdout",
     "output_type": "stream",
     "text": [
      "Result: 10\n"
     ]
    }
   ],
   "source": [
    "def add(a, b):\n",
    "    return a+b\n",
    "result=add(4, 6)\n",
    "print(\"Result:\",result)"
   ]
  },
  {
   "cell_type": "code",
   "execution_count": 110,
   "id": "2d619160-e271-48cc-8bcd-e1382d6412e7",
   "metadata": {},
   "outputs": [
    {
     "name": "stdin",
     "output_type": "stream",
     "text": [
      "enter input: 5\n",
      "enter input: 6\n"
     ]
    },
    {
     "name": "stdout",
     "output_type": "stream",
     "text": [
      "ADD : 11 |SUB : -1 |MUL : 30 |DIV : 0.8333333333333334\n"
     ]
    }
   ],
   "source": [
    "def opp():\n",
    "    a=int(input(\"enter input:\"))\n",
    "    b=int(input(\"enter input:\"))\n",
    "    return a+b, a-b, a*b, a/b\n",
    "tsum, tdiff, tmul, tdiv = opp()\n",
    "print(\"ADD :\",tsum,\"|\" \"SUB :\",tdiff,\"|\" \"MUL :\",tmul,\"|\"\"DIV :\", tdiv)"
   ]
  },
  {
   "cell_type": "code",
   "execution_count": 114,
   "id": "156b7b8b-67ec-4378-9a89-2150313f1a16",
   "metadata": {},
   "outputs": [],
   "source": [
    "# #global var\n",
    "# x=20\n",
    "# def my_fun():\n",
    "#  x=5\n",
    "#  print(\"Inside function:\",X)\n",
    "# my_fun()\n",
    "# print(\"outside fun:\",x)"
   ]
  },
  {
   "cell_type": "code",
   "execution_count": 117,
   "id": "e8c17f58-47ae-426c-b44e-64838f67cf6b",
   "metadata": {},
   "outputs": [],
   "source": [
    "def print_info(*kwargs):\n",
    "    for item in kwrgs:\n",
    "        print(item)\n",
    "print_info(\"hi\", \"hello\")"
   ]
  }
 ],
 "metadata": {
  "kernelspec": {
   "display_name": "Python 3 (ipykernel)",
   "language": "python",
   "name": "python3"
  },
  "language_info": {
   "codemirror_mode": {
    "name": "ipython",
    "version": 3
   },
   "file_extension": ".py",
   "mimetype": "text/x-python",
   "name": "python",
   "nbconvert_exporter": "python",
   "pygments_lexer": "ipython3",
   "version": "3.12.2"
  }
 },
 "nbformat": 4,
 "nbformat_minor": 5
}
