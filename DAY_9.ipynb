{
 "cells": [
  {
   "cell_type": "code",
   "execution_count": null,
   "id": "4237baa5-df51-4cde-ab21-029d8bc868cd",
   "metadata": {},
   "outputs": [],
   "source": [
    "class person:\n",
    "    def init  (self, name, id):\n",
    "     self.name = name\n",
    "     self.age = id\n",
    "\n",
    "def sayHello(self):\n",
    "    print(\"Hello! My name is\" + self.name)\n",
    "\n",
    "p1 = person(\"Dan\", 1234)\n",
    "p1.sayHello()"
   ]
  },
  {
   "cell_type": "code",
   "execution_count": 8,
   "id": "3cd3f6bb-dbfb-4781-a79d-6052d94f1404",
   "metadata": {},
   "outputs": [],
   "source": [
    "class Dog:\n",
    "    def__init__(self, name, age):\n",
    "        self.name = name\n",
    "        self.age = age\n",
    "        \n",
    "        my_pet = Dog(\"Bob\", 5)\n",
    "        \n",
    "        print(my_pet.name)\n",
    "        print(my_pet.age)"
   ]
  },
  {
   "cell_type": "code",
   "execution_count": null,
   "id": "6f4912ab-50b9-46fc-ae63-d3a9eb5ac100",
   "metadata": {},
   "outputs": [],
   "source": []
  }
 ],
 "metadata": {
  "kernelspec": {
   "display_name": "Python 3 (ipykernel)",
   "language": "python",
   "name": "python3"
  },
  "language_info": {
   "codemirror_mode": {
    "name": "ipython",
    "version": 3
   },
   "file_extension": ".py",
   "mimetype": "text/x-python",
   "name": "python",
   "nbconvert_exporter": "python",
   "pygments_lexer": "ipython3",
   "version": "3.12.2"
  }
 },
 "nbformat": 4,
 "nbformat_minor": 5
}
