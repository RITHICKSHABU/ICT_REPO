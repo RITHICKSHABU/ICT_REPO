{
 "cells": [
  {
   "cell_type": "code",
   "execution_count": null,
   "id": "4237baa5-df51-4cde-ab21-029d8bc868cd",
   "metadata": {},
   "outputs": [],
   "source": [
    "class person:\n",
    "    def __init__(self, name, id):\n",
    "     self.name = name\n",
    "     self.age = id\n",
    "\n",
    "def sayHello(self):\n",
    "    print(\"Hello! My name is\" + self.name)\n",
    "    p1 = person(\"Dan\", 1234)\n",
    "    p1.sayHello()"
   ]
  },
  {
   "cell_type": "code",
   "execution_count": null,
   "id": "362239ce",
   "metadata": {},
   "outputs": [],
   "source": [
    "class Dog:\n",
    "    def __init__(self, name, age):\n",
    "        self.name = name\n",
    "        self.age = age\n",
    "my_pet = Dog(\"Bob\", 5)\n",
    "\n",
    "print(my_pet.name)\n",
    "print(my_pet.age)"
   ]
  },
  {
   "cell_type": "code",
   "execution_count": null,
   "id": "64761643",
   "metadata": {},
   "outputs": [],
   "source": [
    "class Dog:\n",
    "    def __init__(self, name, age, sound):\n",
    "        self.name = name\n",
    "        self.age = age\n",
    "        self.sound = sound\n",
    "    def say(self):\n",
    "         print(self.sound)\n",
    "my_pet = Dog(\"Bob\", 5, \"WOOF\")\n",
    "\n",
    "print(my_pet.name)\n",
    "print(my_pet.age)\n",
    "print(my_pet.sound)"
   ]
  },
  {
   "cell_type": "code",
   "execution_count": null,
   "id": "1ac78873",
   "metadata": {},
   "outputs": [],
   "source": [
    "# #Inheritence\n",
    "# class Dog(Animal):\n",
    "#     def __init__(self, name, age):\n",
    "#       super().__init__(name, age, \"Woof!\")\n",
    "\n",
    "#     def action(self):\n",
    "#       print(\"Moves tails\")\n",
    "# class Cat(Animal):\n",
    "#     def __init__(self, name, age):\n",
    "#       super().__init__(name, age, \"Meow\")\n",
    "\n",
    "#     def action(self):\n",
    "#       print(\"Moves legs\")"
   ]
  },
  {
   "cell_type": "code",
   "execution_count": null,
   "id": "0d9ebb4c",
   "metadata": {},
   "outputs": [],
   "source": [
    "class Animal:\n",
    "    def __init__(self, name, age, sound):\n",
    "        self.name = name\n",
    "        self.age = age\n",
    "        self.sound = sound\n",
    "    def say(self):\n",
    "         print(self.sound)\n",
    "my_pet = Animal(\"Bob\", 5, \"WOOF\")\n",
    "\n",
    "print(my_pet.name)\n",
    "print(my_pet.age)\n",
    "print(my_pet.sound)\n",
    "\n",
    "#Inheritence\n",
    "# class Dog(Animal):\n",
    "#     def __init__(self, name, age):\n",
    "#       super().__init__(name, age, \"Woof!\")\n",
    "\n",
    "#     def action(self):\n",
    "#       print(\"Moves tails\")\n",
    "# class Cat(Animal):\n",
    "#     def __init__(self, name, age):\n",
    "#       super().__init__(name, age, \"Meow\")\n",
    "\n",
    "#     def action(self):\n",
    "#       print(\"Moves legs\")"
   ]
  },
  {
   "cell_type": "code",
   "execution_count": null,
   "id": "deddb16a",
   "metadata": {},
   "outputs": [],
   "source": [
    "#Inheritence\n",
    "class Dog(Animal):\n",
    "    def __init__(self, name, age):\n",
    "      super().__init__(name, age, \"Woof!\")\n",
    "      my_dog = Dog(\"Bob\", 5)\n",
    "      my_dog.say()\n",
    "\n",
    "    def action(self):\n",
    "      print(\"Moves tails\")"
   ]
  },
  {
   "cell_type": "code",
   "execution_count": null,
   "id": "c63d1b8c",
   "metadata": {},
   "outputs": [],
   "source": [
    "from abc import ABC\n",
    "class Dog(ABC):\n",
    "  def __init__(self,name):\n",
    "    self.name = name\n",
    "  def sound(self):\n",
    "    pass\n",
    "\n",
    "  def display_name(self):\n",
    "    print(f\"Dog's Name:{self.name}\")\n",
    "\n",
    "class Labrador(Dog):\n",
    "  def sound(self):\n",
    "    print(\"Labrador Woof!\")\n",
    "\n",
    "class Beagle(Dog):\n",
    "  def sound(self):\n",
    "    print(\"Beagle Woof!\")\n",
    "\n",
    "lab = Labrador(\"Bob\")\n",
    "lab.display_name()\n",
    "lab.sound()\n",
    "\n",
    "beag = Beagle(\"Dan\")\n",
    "beag.display_name()\n",
    "beag.sound()"
   ]
  },
  {
   "cell_type": "code",
   "execution_count": null,
   "id": "0d55a76c",
   "metadata": {},
   "outputs": [],
   "source": [
    "def greet():\n",
    "  pass\n",
    "\n",
    "  greet()"
   ]
  },
  {
   "cell_type": "code",
   "execution_count": null,
   "id": "39b0554a",
   "metadata": {},
   "outputs": [],
   "source": [
    "class Calculator:\n",
    "    def __init__(self, num1, num2):\n",
    "        self.num1 = num1\n",
    "        self.num2 = num2\n",
    "\n",
    "    def add(self):\n",
    "        return self.num1 + self.num2\n",
    "\n",
    "    def subtract(self):\n",
    "        return self.num1 - self.num2\n",
    "\n",
    "    def multiply(self):\n",
    "        return self.num1 * self.num2\n",
    "\n",
    "    def divide(self):\n",
    "        if self.num2 == 0:\n",
    "            return \"Division by zero error\"\n",
    "        return self.num1 / self.num2\n",
    "\n",
    "num1 = float(input(\"Enter the first number: \"))\n",
    "num2 = float(input(\"Enter the second number: \"))\n",
    "\n",
    "calculator = Calculator(num1, num2)\n",
    "\n",
    "print(\"THE SUM OF NUMBERS :\", calculator.add())\n",
    "print(\"THE DIFF OF NUMBERS :\", calculator.subtract())\n",
    "print(\"THE PRODUCT OF NUMBERS :\", calculator.multiply())\n",
    "print(\"THE QUOTIENT OF NUMBERS :\", calculator.divide())"
   ]
  },
  {
   "cell_type": "code",
   "execution_count": null,
   "id": "8de874d2",
   "metadata": {},
   "outputs": [],
   "source": [
    "from sample import greet\n",
    "\n",
    "greet()"
   ]
  },
  {
   "cell_type": "code",
   "execution_count": null,
   "id": "74e33752",
   "metadata": {},
   "outputs": [],
   "source": []
  },
  {
   "cell_type": "code",
   "execution_count": null,
   "id": "3cd3f6bb-dbfb-4781-a79d-6052d94f1404",
   "metadata": {},
   "outputs": [],
   "source": []
  },
  {
   "cell_type": "code",
   "execution_count": null,
   "id": "6f4912ab-50b9-46fc-ae63-d3a9eb5ac100",
   "metadata": {},
   "outputs": [],
   "source": []
  }
 ],
 "metadata": {
  "kernelspec": {
   "display_name": "Python 3 (ipykernel)",
   "language": "python",
   "name": "python3"
  },
  "language_info": {
   "codemirror_mode": {
    "name": "ipython",
    "version": 3
   },
   "file_extension": ".py",
   "mimetype": "text/x-python",
   "name": "python",
   "nbconvert_exporter": "python",
   "pygments_lexer": "ipython3",
   "version": "3.12.2"
  }
 },
 "nbformat": 4,
 "nbformat_minor": 5
}
