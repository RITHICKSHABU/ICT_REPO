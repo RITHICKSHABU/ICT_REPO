{
 "cells": [
  {
   "cell_type": "code",
   "execution_count": 1,
   "id": "e74cac04-8705-4812-b8c8-c9e8527b6ba7",
   "metadata": {},
   "outputs": [
    {
     "name": "stdout",
     "output_type": "stream",
     "text": [
      "<class 'range'>\n",
      "<class 'range'>\n"
     ]
    }
   ],
   "source": [
    "import time\n",
    "a = range(100000)\n",
    "b = range(100000)\n",
    "print(type(a))\n",
    "print(type(b))"
   ]
  },
  {
   "cell_type": "code",
   "execution_count": 8,
   "id": "37937494-2fc6-4ac1-b58f-b601f9703d7f",
   "metadata": {},
   "outputs": [
    {
     "name": "stdout",
     "output_type": "stream",
     "text": [
      "<class 'range'>\n",
      "<class 'range'>\n",
      "Total time taken : 49.974679946899414\n"
     ]
    }
   ],
   "source": [
    "import time\n",
    "a = range(100000)\n",
    "b = range(100000)\n",
    "print(type(a))\n",
    "print(type(b))\n",
    "start = time.time()\n",
    "c = []\n",
    "for x,y in zip(a,b):\n",
    "  su = x+y\n",
    "  c.append(su)\n",
    "end = time.time()\n",
    "print('Total time taken :',(end - start)*1000)"
   ]
  },
  {
   "cell_type": "code",
   "execution_count": 58,
   "id": "800de9ec-4e95-4a57-b84a-a5be4ac1a759",
   "metadata": {},
   "outputs": [
    {
     "name": "stdout",
     "output_type": "stream",
     "text": [
      "<class 'range'>\n",
      "<class 'range'>\n",
      "Total time taken : 0.0\n"
     ]
    }
   ],
   "source": [
    "import numpy as np\n",
    "import time\n",
    "a = range(100000)\n",
    "b = range(100000)\n",
    "print(type(a))\n",
    "print(type(b))\n",
    "arr_1 = np.array(a)\n",
    "arr_2 = np.array(b)\n",
    "start = time.time()\n",
    "arr_3 = arr_1 + arr_2\n",
    "end = time.time()\n",
    "print('Total time taken :',(end - start)*1000)\n",
    "\n"
   ]
  },
  {
   "cell_type": "code",
   "execution_count": 59,
   "id": "ba6c45c9-e1b7-40b3-bd52-4f9376e1867e",
   "metadata": {},
   "outputs": [],
   "source": [
    "a = np.array([1,2,3,4,5])"
   ]
  },
  {
   "cell_type": "code",
   "execution_count": 60,
   "id": "717effdc-5292-4339-bd4d-f32f02a21046",
   "metadata": {},
   "outputs": [
    {
     "data": {
      "text/plain": [
       "1"
      ]
     },
     "execution_count": 60,
     "metadata": {},
     "output_type": "execute_result"
    }
   ],
   "source": [
    "a.ndim #to get the dimension of the array"
   ]
  },
  {
   "cell_type": "code",
   "execution_count": 61,
   "id": "507241d4-5368-4ba3-b2e7-d154d4a84afb",
   "metadata": {},
   "outputs": [
    {
     "data": {
      "text/plain": [
       "(5,)"
      ]
     },
     "execution_count": 61,
     "metadata": {},
     "output_type": "execute_result"
    }
   ],
   "source": [
    "a.shape"
   ]
  },
  {
   "cell_type": "code",
   "execution_count": 62,
   "id": "afd7fe5e-9de2-4375-99c5-54745cfcff2d",
   "metadata": {},
   "outputs": [
    {
     "data": {
      "text/plain": [
       "dtype('int64')"
      ]
     },
     "execution_count": 62,
     "metadata": {},
     "output_type": "execute_result"
    }
   ],
   "source": [
    "a.dtype # to get the datatype"
   ]
  },
  {
   "cell_type": "code",
   "execution_count": 63,
   "id": "7ca43caf-fd36-465d-a1a6-05005d66d87b",
   "metadata": {},
   "outputs": [
    {
     "data": {
      "text/plain": [
       "numpy.ndarray"
      ]
     },
     "execution_count": 63,
     "metadata": {},
     "output_type": "execute_result"
    }
   ],
   "source": [
    "type(a)"
   ]
  },
  {
   "cell_type": "code",
   "execution_count": 64,
   "id": "4d95a95f-493c-450c-9caa-c513c8b186d6",
   "metadata": {},
   "outputs": [],
   "source": [
    "b = np.array([[1,2,3,4,5], [6, 7, 8, 9, 10]])"
   ]
  },
  {
   "cell_type": "code",
   "execution_count": 65,
   "id": "c1725e5f-dd6a-4d65-a631-675f904b16a7",
   "metadata": {},
   "outputs": [
    {
     "data": {
      "text/plain": [
       "2"
      ]
     },
     "execution_count": 65,
     "metadata": {},
     "output_type": "execute_result"
    }
   ],
   "source": [
    "b.ndim"
   ]
  },
  {
   "cell_type": "code",
   "execution_count": 66,
   "id": "8248340e-2268-4e2e-9b76-da9adf81b5ef",
   "metadata": {},
   "outputs": [
    {
     "data": {
      "text/plain": [
       "(2, 5)"
      ]
     },
     "execution_count": 66,
     "metadata": {},
     "output_type": "execute_result"
    }
   ],
   "source": [
    "b.shape"
   ]
  },
  {
   "cell_type": "code",
   "execution_count": 67,
   "id": "484b9b29-b3d6-4eb6-9434-601aa4f4069b",
   "metadata": {},
   "outputs": [
    {
     "data": {
      "text/plain": [
       "dtype('int64')"
      ]
     },
     "execution_count": 67,
     "metadata": {},
     "output_type": "execute_result"
    }
   ],
   "source": [
    "b.dtype"
   ]
  },
  {
   "cell_type": "code",
   "execution_count": 68,
   "id": "fc116f01-133d-4689-ae1f-1245e1288361",
   "metadata": {},
   "outputs": [
    {
     "data": {
      "text/plain": [
       "numpy.ndarray"
      ]
     },
     "execution_count": 68,
     "metadata": {},
     "output_type": "execute_result"
    }
   ],
   "source": [
    "type(b)"
   ]
  },
  {
   "cell_type": "code",
   "execution_count": 69,
   "id": "070a4b33-31ac-4955-9f9e-1b375bf19367",
   "metadata": {},
   "outputs": [
    {
     "name": "stdout",
     "output_type": "stream",
     "text": [
      "[1, 2, 3, 4, 5, 6, 7, 8, 9, 10]\n"
     ]
    }
   ],
   "source": [
    "print(list(range(1,11)))"
   ]
  },
  {
   "cell_type": "code",
   "execution_count": 70,
   "id": "803eaef7-d49f-4e16-94b5-de5918463179",
   "metadata": {},
   "outputs": [
    {
     "name": "stdout",
     "output_type": "stream",
     "text": [
      "[ 5  6  7  8  9 10 11 12 13 14 15 16 17 18 19 20]\n"
     ]
    }
   ],
   "source": [
    "arr3 = np.arange(5,21)\n",
    "print(arr3)"
   ]
  },
  {
   "cell_type": "code",
   "execution_count": 71,
   "id": "c4aa4e4b-1a27-4a3b-aaf0-07632b2f0492",
   "metadata": {},
   "outputs": [
    {
     "data": {
      "text/plain": [
       "array([[ 5,  6,  7,  8],\n",
       "       [ 9, 10, 11, 12],\n",
       "       [13, 14, 15, 16],\n",
       "       [17, 18, 19, 20]])"
      ]
     },
     "execution_count": 71,
     "metadata": {},
     "output_type": "execute_result"
    }
   ],
   "source": [
    "arr3.reshape(4,4)"
   ]
  },
  {
   "cell_type": "code",
   "execution_count": 72,
   "id": "b204f20c-cedd-4da7-97a4-b92e36c47578",
   "metadata": {},
   "outputs": [
    {
     "data": {
      "text/plain": [
       "array([[ 5,  6,  7,  8,  9, 10, 11, 12],\n",
       "       [13, 14, 15, 16, 17, 18, 19, 20]])"
      ]
     },
     "execution_count": 72,
     "metadata": {},
     "output_type": "execute_result"
    }
   ],
   "source": [
    "arr3.reshape(2,8)"
   ]
  },
  {
   "cell_type": "code",
   "execution_count": 73,
   "id": "987d405b-d376-4285-ac28-6cdfa1ba889c",
   "metadata": {},
   "outputs": [
    {
     "data": {
      "text/plain": [
       "array([[ 5,  6],\n",
       "       [ 7,  8],\n",
       "       [ 9, 10],\n",
       "       [11, 12],\n",
       "       [13, 14],\n",
       "       [15, 16],\n",
       "       [17, 18],\n",
       "       [19, 20]])"
      ]
     },
     "execution_count": 73,
     "metadata": {},
     "output_type": "execute_result"
    }
   ],
   "source": [
    "arr3.reshape(8,2)"
   ]
  },
  {
   "cell_type": "code",
   "execution_count": 74,
   "id": "de9f3d12-7a0f-4403-858a-ea77375113b7",
   "metadata": {},
   "outputs": [
    {
     "name": "stdout",
     "output_type": "stream",
     "text": [
      "[ 0  1  2  3  4  5  6  7  8  9 10 11 12 13 14 15]\n"
     ]
    }
   ],
   "source": [
    "arr = np.arange(16)\n",
    "print(arr)"
   ]
  },
  {
   "cell_type": "code",
   "execution_count": 75,
   "id": "8da7b583-b3b8-4075-b377-3ce6a6ee5936",
   "metadata": {},
   "outputs": [
    {
     "data": {
      "text/plain": [
       "array([ 7,  8,  9, 10, 11, 12])"
      ]
     },
     "execution_count": 75,
     "metadata": {},
     "output_type": "execute_result"
    }
   ],
   "source": [
    "arr[7:13]"
   ]
  },
  {
   "cell_type": "code",
   "execution_count": 76,
   "id": "0a1dae1d-ac50-47cb-8043-775bd197da77",
   "metadata": {},
   "outputs": [
    {
     "data": {
      "text/plain": [
       "np.int64(7)"
      ]
     },
     "execution_count": 76,
     "metadata": {},
     "output_type": "execute_result"
    }
   ],
   "source": [
    "arr[7]"
   ]
  },
  {
   "cell_type": "code",
   "execution_count": 77,
   "id": "096d607a-9086-48cb-9cc2-a9b598b26e6d",
   "metadata": {},
   "outputs": [
    {
     "name": "stdout",
     "output_type": "stream",
     "text": [
      "[4 1 9 3 7 3 2]\n"
     ]
    }
   ],
   "source": [
    "arr1 = np.array([4,1,9,3,7,3,2])\n",
    "print(arr1)"
   ]
  },
  {
   "cell_type": "code",
   "execution_count": 78,
   "id": "83958cae-6bb1-428a-a8ac-aacb84164981",
   "metadata": {},
   "outputs": [
    {
     "name": "stdout",
     "output_type": "stream",
     "text": [
      "[[ -7   5  -2   4]\n",
      " [  5   2   7   3]\n",
      " [ 10 -13  -3   5]]\n"
     ]
    }
   ],
   "source": [
    "arr2 = np.array([[-7,5,-2,4],[5,2,7,3],[10,-13,-3,5]])\n",
    "print(arr2)"
   ]
  },
  {
   "cell_type": "code",
   "execution_count": 79,
   "id": "259ed3c7-1435-49e3-9ea6-f2095d0dc5be",
   "metadata": {},
   "outputs": [
    {
     "data": {
      "text/plain": [
       "(3, 4)"
      ]
     },
     "execution_count": 79,
     "metadata": {},
     "output_type": "execute_result"
    }
   ],
   "source": [
    "arr2.shape"
   ]
  },
  {
   "cell_type": "code",
   "execution_count": 80,
   "id": "8bfa36bf-c58e-442e-a11d-af915450f8e2",
   "metadata": {},
   "outputs": [
    {
     "data": {
      "text/plain": [
       "array([ 10, -13,  -3,   5])"
      ]
     },
     "execution_count": 80,
     "metadata": {},
     "output_type": "execute_result"
    }
   ],
   "source": [
    "arr2[2]"
   ]
  },
  {
   "cell_type": "code",
   "execution_count": 81,
   "id": "9a9e0149-1558-4928-9c41-ff3926e0c247",
   "metadata": {},
   "outputs": [
    {
     "data": {
      "text/plain": [
       "np.int64(7)"
      ]
     },
     "execution_count": 81,
     "metadata": {},
     "output_type": "execute_result"
    }
   ],
   "source": [
    "arr2[1,2]"
   ]
  },
  {
   "cell_type": "code",
   "execution_count": 82,
   "id": "51aa9318-7414-435b-8704-920d0dd198f9",
   "metadata": {},
   "outputs": [
    {
     "data": {
      "text/plain": [
       "array([[  5,   2,   7,   3],\n",
       "       [ 10, -13,  -3,   5]])"
      ]
     },
     "execution_count": 82,
     "metadata": {},
     "output_type": "execute_result"
    }
   ],
   "source": [
    "arr2[[1,2]]"
   ]
  },
  {
   "cell_type": "code",
   "execution_count": 83,
   "id": "978185d3-647d-436b-879b-131ec8480307",
   "metadata": {},
   "outputs": [
    {
     "data": {
      "text/plain": [
       "array([  5,   2, -13])"
      ]
     },
     "execution_count": 83,
     "metadata": {},
     "output_type": "execute_result"
    }
   ],
   "source": [
    "arr2[:,1]"
   ]
  },
  {
   "cell_type": "code",
   "execution_count": 84,
   "id": "726f9623-c969-4d9b-ad63-8548d0f44e32",
   "metadata": {},
   "outputs": [
    {
     "data": {
      "text/plain": [
       "array([ 10, -13,  -3,   5])"
      ]
     },
     "execution_count": 84,
     "metadata": {},
     "output_type": "execute_result"
    }
   ],
   "source": [
    "arr2[2]"
   ]
  },
  {
   "cell_type": "code",
   "execution_count": 85,
   "id": "f0c852a5-32cb-43f7-bb76-8a22db2e4fbe",
   "metadata": {},
   "outputs": [
    {
     "data": {
      "text/plain": [
       "array([[  2,   7],\n",
       "       [-13,  -3]])"
      ]
     },
     "execution_count": 85,
     "metadata": {},
     "output_type": "execute_result"
    }
   ],
   "source": [
    "arr2[1:3,1:3]"
   ]
  },
  {
   "cell_type": "code",
   "execution_count": 86,
   "id": "f55ee1d6-7fa1-4649-80b9-deb8e7d30dda",
   "metadata": {},
   "outputs": [
    {
     "name": "stdout",
     "output_type": "stream",
     "text": [
      "[[10 12 14 16 18 20]\n",
      " [22 24 26 28 30 32]\n",
      " [34 36 38 40 42 44]\n",
      " [46 48 50 52 54 56]\n",
      " [58 60 62 64 66 68]\n",
      " [70 72 74 76 78 80]]\n"
     ]
    }
   ],
   "source": [
    "arr3 = np.arange(10,82,2).reshape(6,6)\n",
    "print(arr3)"
   ]
  },
  {
   "cell_type": "code",
   "execution_count": 87,
   "id": "9e58644c-cdd6-4c6f-a797-f7d280f945b4",
   "metadata": {},
   "outputs": [
    {
     "data": {
      "text/plain": [
       "array([[10, 16],\n",
       "       [22, 28],\n",
       "       [34, 40],\n",
       "       [46, 52],\n",
       "       [58, 64],\n",
       "       [70, 76]])"
      ]
     },
     "execution_count": 87,
     "metadata": {},
     "output_type": "execute_result"
    }
   ],
   "source": [
    "arr3[:, [0,3]] # if u want to see the column of the index 0 and 3"
   ]
  },
  {
   "cell_type": "code",
   "execution_count": 88,
   "id": "c40c0ee0-cbe9-4adc-92de-32d8e527e157",
   "metadata": {},
   "outputs": [
    {
     "data": {
      "text/plain": [
       "array([[12, 20],\n",
       "       [24, 32],\n",
       "       [36, 44],\n",
       "       [48, 56],\n",
       "       [60, 68],\n",
       "       [72, 80]])"
      ]
     },
     "execution_count": 88,
     "metadata": {},
     "output_type": "execute_result"
    }
   ],
   "source": [
    "arr3[:,[1,5]]"
   ]
  },
  {
   "cell_type": "code",
   "execution_count": 89,
   "id": "00d892f8-ab20-4b3c-8047-5c60e92218a4",
   "metadata": {},
   "outputs": [
    {
     "data": {
      "text/plain": [
       "array([[10, 12, 14, 16, 18, 20],\n",
       "       [22, 24, 26, 28, 30, 32]])"
      ]
     },
     "execution_count": 89,
     "metadata": {},
     "output_type": "execute_result"
    }
   ],
   "source": [
    "arr3[:2,:] #first two rows"
   ]
  },
  {
   "cell_type": "code",
   "execution_count": 91,
   "id": "c3537b46-770b-474e-9949-e70d66c3fc16",
   "metadata": {},
   "outputs": [
    {
     "data": {
      "text/plain": [
       "array([34, 36, 38, 40, 42, 44])"
      ]
     },
     "execution_count": 91,
     "metadata": {},
     "output_type": "execute_result"
    }
   ],
   "source": [
    "arr3[2]"
   ]
  },
  {
   "cell_type": "code",
   "execution_count": 93,
   "id": "ceaed335-7440-4a7c-a4d1-9dfe238ca95d",
   "metadata": {},
   "outputs": [
    {
     "data": {
      "text/plain": [
       "np.int64(1620)"
      ]
     },
     "execution_count": 93,
     "metadata": {},
     "output_type": "execute_result"
    }
   ],
   "source": [
    "arr3.sum()"
   ]
  },
  {
   "cell_type": "code",
   "execution_count": 95,
   "id": "d99cb86b-e0e7-455b-889d-31f512e105b4",
   "metadata": {},
   "outputs": [
    {
     "data": {
      "text/plain": [
       "np.float64(45.0)"
      ]
     },
     "execution_count": 95,
     "metadata": {},
     "output_type": "execute_result"
    }
   ],
   "source": [
    "np.mean(arr3)"
   ]
  },
  {
   "cell_type": "code",
   "execution_count": 102,
   "id": "1b8a8f1b-af21-4f5e-a843-b4ad00ec364b",
   "metadata": {},
   "outputs": [
    {
     "data": {
      "text/plain": [
       "array([15., 27., 39., 51., 63., 75.])"
      ]
     },
     "execution_count": 102,
     "metadata": {},
     "output_type": "execute_result"
    }
   ],
   "source": [
    "arr3.mean(axis = 1)"
   ]
  },
  {
   "cell_type": "code",
   "execution_count": 105,
   "id": "0152aa9b-e7d7-44bd-9a96-d4a6fa2a8f06",
   "metadata": {},
   "outputs": [
    {
     "name": "stdout",
     "output_type": "stream",
     "text": [
      "[[10 12 14 16 18 20]\n",
      " [22 24 26 28 30 32]\n",
      " [34 36 38 40 42 44]\n",
      " [46 48 50 52 54 56]\n",
      " [58 60 62 64 66 68]\n",
      " [70 72 74 76 78 80]]\n"
     ]
    }
   ],
   "source": [
    "x_abs = np.abs(arr3)\n",
    "print(x_abs)"
   ]
  },
  {
   "cell_type": "code",
   "execution_count": 107,
   "id": "e71a8156-229e-438b-8ed4-9f7ea9b326e7",
   "metadata": {},
   "outputs": [
    {
     "name": "stdout",
     "output_type": "stream",
     "text": [
      "45.0\n"
     ]
    }
   ],
   "source": [
    "x_mean = np.mean(arr3)\n",
    "print(x_mean)"
   ]
  },
  {
   "cell_type": "code",
   "execution_count": 108,
   "id": "7c81fc6d-c9ac-4afa-a7a0-90a34f2ea0df",
   "metadata": {},
   "outputs": [
    {
     "name": "stdout",
     "output_type": "stream",
     "text": [
      "20.77658938966323\n"
     ]
    }
   ],
   "source": [
    "x_std = np.std(arr3)\n",
    "print(x_std)"
   ]
  },
  {
   "cell_type": "code",
   "execution_count": 109,
   "id": "3553e204-19da-4043-9848-0e2760f1a4fe",
   "metadata": {},
   "outputs": [
    {
     "name": "stdout",
     "output_type": "stream",
     "text": [
      "431.6666666666667\n"
     ]
    }
   ],
   "source": [
    "x_var = np.var(arr3)\n",
    "print(x_var)"
   ]
  },
  {
   "cell_type": "code",
   "execution_count": 115,
   "id": "dda220a6-117f-424f-81bf-53d5867a7c4a",
   "metadata": {},
   "outputs": [
    {
     "name": "stdout",
     "output_type": "stream",
     "text": [
      "[[28 34]\n",
      " [76 98]]\n"
     ]
    }
   ],
   "source": [
    "A = np.arange(8).reshape(2,4)\n",
    "B = np.arange(8).reshape(4,2)\n",
    "C = A.dot(B)\n",
    "print(C)"
   ]
  },
  {
   "cell_type": "code",
   "execution_count": 121,
   "id": "3bb59c33-42f0-4a8f-9829-3bec18d6ff2a",
   "metadata": {},
   "outputs": [],
   "source": [
    "a = np.zeros((5,6))\n",
    "b = np.ones((5,6))"
   ]
  },
  {
   "cell_type": "code",
   "execution_count": 122,
   "id": "53ca5bab-e5dd-4ecf-a849-818a1536a68d",
   "metadata": {},
   "outputs": [
    {
     "data": {
      "text/plain": [
       "array([[0., 0., 0., 0., 0., 0.],\n",
       "       [0., 0., 0., 0., 0., 0.],\n",
       "       [0., 0., 0., 0., 0., 0.],\n",
       "       [0., 0., 0., 0., 0., 0.],\n",
       "       [0., 0., 0., 0., 0., 0.],\n",
       "       [1., 1., 1., 1., 1., 1.],\n",
       "       [1., 1., 1., 1., 1., 1.],\n",
       "       [1., 1., 1., 1., 1., 1.],\n",
       "       [1., 1., 1., 1., 1., 1.],\n",
       "       [1., 1., 1., 1., 1., 1.]])"
      ]
     },
     "execution_count": 122,
     "metadata": {},
     "output_type": "execute_result"
    }
   ],
   "source": [
    "np.vstack((a,b)) # for vertical stacking"
   ]
  },
  {
   "cell_type": "code",
   "execution_count": 123,
   "id": "572ae330-2824-41b0-b1de-81f785550d11",
   "metadata": {},
   "outputs": [
    {
     "data": {
      "text/plain": [
       "array([[0., 0., 0., 0., 0., 0., 1., 1., 1., 1., 1., 1.],\n",
       "       [0., 0., 0., 0., 0., 0., 1., 1., 1., 1., 1., 1.],\n",
       "       [0., 0., 0., 0., 0., 0., 1., 1., 1., 1., 1., 1.],\n",
       "       [0., 0., 0., 0., 0., 0., 1., 1., 1., 1., 1., 1.],\n",
       "       [0., 0., 0., 0., 0., 0., 1., 1., 1., 1., 1., 1.]])"
      ]
     },
     "execution_count": 123,
     "metadata": {},
     "output_type": "execute_result"
    }
   ],
   "source": [
    "np.hstack((a,b))"
   ]
  },
  {
   "cell_type": "code",
   "execution_count": 125,
   "id": "2edfeac5-6c75-4543-a4e7-d59e5b4372d0",
   "metadata": {},
   "outputs": [
    {
     "data": {
      "text/plain": [
       "array([[0., 0., 0., 0., 0., 0., 1., 1., 1., 1., 1., 1.],\n",
       "       [0., 0., 0., 0., 0., 0., 1., 1., 1., 1., 1., 1.],\n",
       "       [0., 0., 0., 0., 0., 0., 1., 1., 1., 1., 1., 1.],\n",
       "       [0., 0., 0., 0., 0., 0., 1., 1., 1., 1., 1., 1.],\n",
       "       [0., 0., 0., 0., 0., 0., 1., 1., 1., 1., 1., 1.]])"
      ]
     },
     "execution_count": 125,
     "metadata": {},
     "output_type": "execute_result"
    }
   ],
   "source": [
    "np.concatenate((a,b),axis = 1)"
   ]
  },
  {
   "cell_type": "code",
   "execution_count": 127,
   "id": "5e0fccaa-f285-47de-9514-2ac2cca2eda4",
   "metadata": {},
   "outputs": [
    {
     "data": {
      "text/plain": [
       "array([[0., 0., 0., 0., 0., 0.],\n",
       "       [0., 0., 0., 0., 0., 0.],\n",
       "       [0., 0., 0., 0., 0., 0.],\n",
       "       [0., 0., 0., 0., 0., 0.],\n",
       "       [0., 0., 0., 0., 0., 0.],\n",
       "       [1., 1., 1., 1., 1., 1.],\n",
       "       [1., 1., 1., 1., 1., 1.],\n",
       "       [1., 1., 1., 1., 1., 1.],\n",
       "       [1., 1., 1., 1., 1., 1.],\n",
       "       [1., 1., 1., 1., 1., 1.]])"
      ]
     },
     "execution_count": 127,
     "metadata": {},
     "output_type": "execute_result"
    }
   ],
   "source": [
    "np.concatenate((a,b))"
   ]
  },
  {
   "cell_type": "code",
   "execution_count": null,
   "id": "ecb2eb66-84a5-459a-8bc1-2c518c788e3d",
   "metadata": {},
   "outputs": [],
   "source": []
  },
  {
   "cell_type": "code",
   "execution_count": null,
   "id": "785f6970-2159-4196-9920-58c3560591db",
   "metadata": {},
   "outputs": [],
   "source": []
  }
 ],
 "metadata": {
  "kernelspec": {
   "display_name": "Python 3 (ipykernel)",
   "language": "python",
   "name": "python3"
  },
  "language_info": {
   "codemirror_mode": {
    "name": "ipython",
    "version": 3
   },
   "file_extension": ".py",
   "mimetype": "text/x-python",
   "name": "python",
   "nbconvert_exporter": "python",
   "pygments_lexer": "ipython3",
   "version": "3.12.2"
  }
 },
 "nbformat": 4,
 "nbformat_minor": 5
}
